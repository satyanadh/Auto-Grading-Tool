{
 "cells": [
  {
   "cell_type": "code",
   "execution_count": 67,
   "metadata": {},
   "outputs": [],
   "source": [
    "import albumentations as A\n",
    "import cv2\n",
    "import os"
   ]
  },
  {
   "cell_type": "code",
   "execution_count": 68,
   "metadata": {},
   "outputs": [],
   "source": [
    "transform = A.Compose(\n",
    "    [\n",
    "        A.HorizontalFlip(p=0.5),\n",
    "        A.VerticalFlip(p=0.5),\n",
    "        A.Affine(\n",
    "            shear=[-15, 15], interpolation=cv2.INTER_CUBIC, mode=cv2.BORDER_CONSTANT, cval=0, p=0.5\n",
    "        ),\n",
    "        A.Rotate(\n",
    "            limit=(-15, 15),\n",
    "            interpolation=cv2.INTER_CUBIC,\n",
    "            border_mode=cv2.BORDER_CONSTANT,\n",
    "            value=0,\n",
    "            p=0.5,\n",
    "        ),\n",
    "    ]\n",
    ")"
   ]
  },
  {
   "cell_type": "code",
   "execution_count": 69,
   "metadata": {},
   "outputs": [],
   "source": [
    "root = \"data/custom_symbols/colon\"\n",
    "files = os.listdir(root)\n",
    "n_aug = 10\n",
    "for file in files:\n",
    "    path = f\"{root}/{file}\"\n",
    "    if os.path.isfile(path):\n",
    "        im = cv2.imread(path)\n",
    "        im = cv2.cvtColor(im, cv2.COLOR_BGR2GRAY)\n",
    "        for n in range(n_aug):\n",
    "            transformed = transform(image=im)\n",
    "            im_aug = transformed[\"image\"]\n",
    "            cv2.imwrite(f'{root}/aug/{file.split(\".\")[0]}_aug{n}.jpg', im_aug)"
   ]
  },
  {
   "cell_type": "code",
   "execution_count": null,
   "metadata": {},
   "outputs": [],
   "source": []
  }
 ],
 "metadata": {
  "kernelspec": {
   "display_name": "cmpe295",
   "language": "python",
   "name": "python3"
  },
  "language_info": {
   "codemirror_mode": {
    "name": "ipython",
    "version": 3
   },
   "file_extension": ".py",
   "mimetype": "text/x-python",
   "name": "python",
   "nbconvert_exporter": "python",
   "pygments_lexer": "ipython3",
   "version": "3.9.16"
  },
  "orig_nbformat": 4
 },
 "nbformat": 4,
 "nbformat_minor": 2
}
